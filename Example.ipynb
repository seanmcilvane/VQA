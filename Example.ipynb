{
 "cells": [
  {
   "cell_type": "code",
   "execution_count": 6,
   "id": "88b3bff2",
   "metadata": {},
   "outputs": [],
   "source": [
    "from qiskit import Aer, QuantumCircuit, ClassicalRegister, QuantumRegister, execute, assemble, transpile\n",
    "import numpy as np\n",
    "from qiskit.providers.aer import QasmSimulator\n",
    "from qiskit.algorithms.optimizers import COBYLA\n",
    "from VQA import VQA"
   ]
  },
  {
   "cell_type": "code",
   "execution_count": 25,
   "id": "c82eb5c8",
   "metadata": {},
   "outputs": [],
   "source": [
    "# Creating a target distribution for the example\n",
    "qubits = 3\n",
    "np.random.seed(50)\n",
    "target_distr = np.random.rand(2**qubits)\n",
    "target_distr /= sum(target_distr) # automatic normalization\n",
    "\n",
    "# Have to define backend and optimizer\n",
    "backend = Aer.get_backend('qasm_simulator')\n",
    "optimizer = COBYLA(maxiter = 1000, disp = True, tol=.000001)\n",
    "\n",
    "\n",
    "problem = VQA(target_distr, optimizer, backend, layers = 4)"
   ]
  },
  {
   "cell_type": "code",
   "execution_count": 26,
   "id": "a71ba16b",
   "metadata": {},
   "outputs": [
    {
     "data": {
      "text/html": [
       "<pre style=\"word-wrap: normal;white-space: pre;background: #fff0;line-height: 1.1;font-family: &quot;Courier New&quot;,Courier,monospace\">          ┌────────────────────────────┐     ┌────────────────────────────┐»\n",
       "q12581_0: ┤ U(0.76054,0.31001,0.34654) ├──■──┤ U(0.35176,0.14547,0.97266) ├»\n",
       "          ├────────────────────────────┤┌─┴─┐└────────────────────────────┘»\n",
       "q12581_1: ┤ U(0.31001,0.34654,0.35176) ├┤ X ├──────────────■───────────────»\n",
       "          ├────────────────────────────┤└───┘            ┌─┴─┐             »\n",
       "q12581_2: ┤ U(0.34654,0.35176,0.14547) ├─────────────────┤ X ├─────────────»\n",
       "          └────────────────────────────┘                 └───┘             »\n",
       " c1053: 3/═════════════════════════════════════════════════════════════════»\n",
       "                                                                           »\n",
       "«                                             ┌────────────────────────────┐»\n",
       "«q12581_0: ────────────────────────────────■──┤ U(0.90918,0.55996,0.31359) ├»\n",
       "«          ┌────────────────────────────┐┌─┴─┐└────────────────────────────┘»\n",
       "«q12581_1: ┤ U(0.14547,0.97266,0.90918) ├┤ X ├──────────────■───────────────»\n",
       "«          ├────────────────────────────┤└───┘            ┌─┴─┐             »\n",
       "«q12581_2: ┤ U(0.97266,0.90918,0.55996) ├─────────────────┤ X ├─────────────»\n",
       "«          └────────────────────────────┘                 └───┘             »\n",
       "« c1053: 3/═════════════════════════════════════════════════════════════════»\n",
       "«                                                                           »\n",
       "«                                            ┌───────────────────────────┐»\n",
       "«q12581_0: ───────────────────────────────■──┤ U(0.8882,0.67457,0.39109) ├»\n",
       "«          ┌───────────────────────────┐┌─┴─┐└───────────────────────────┘»\n",
       "«q12581_1: ┤ U(0.55996,0.31359,0.8882) ├┤ X ├──────────────■──────────────»\n",
       "«          ├───────────────────────────┤└───┘            ┌─┴─┐            »\n",
       "«q12581_2: ┤ U(0.31359,0.8882,0.67457) ├─────────────────┤ X ├────────────»\n",
       "«          └───────────────────────────┘                 └───┘            »\n",
       "« c1053: 3/═══════════════════════════════════════════════════════════════»\n",
       "«                                                                         »\n",
       "«                                        ┌─┐      \n",
       "«q12581_0: ──────────────────────────────┤M├──────\n",
       "«          ┌────────────────────────────┐└╥┘┌─┐   \n",
       "«q12581_1: ┤ U(0.67457,0.39109,0.50718) ├─╫─┤M├───\n",
       "«          ├───────────────────────────┬┘ ║ └╥┘┌─┐\n",
       "«q12581_2: ┤ U(0.39109,0.50718,0.5241) ├──╫──╫─┤M├\n",
       "«          └───────────────────────────┘  ║  ║ └╥┘\n",
       "« c1053: 3/═══════════════════════════════╩══╩══╩═\n",
       "«                                         0  1  2 </pre>"
      ],
      "text/plain": [
       "          ┌────────────────────────────┐     ┌────────────────────────────┐»\n",
       "q12581_0: ┤ U(0.76054,0.31001,0.34654) ├──■──┤ U(0.35176,0.14547,0.97266) ├»\n",
       "          ├────────────────────────────┤┌─┴─┐└────────────────────────────┘»\n",
       "q12581_1: ┤ U(0.31001,0.34654,0.35176) ├┤ X ├──────────────■───────────────»\n",
       "          ├────────────────────────────┤└───┘            ┌─┴─┐             »\n",
       "q12581_2: ┤ U(0.34654,0.35176,0.14547) ├─────────────────┤ X ├─────────────»\n",
       "          └────────────────────────────┘                 └───┘             »\n",
       " c1053: 3/═════════════════════════════════════════════════════════════════»\n",
       "                                                                           »\n",
       "«                                             ┌────────────────────────────┐»\n",
       "«q12581_0: ────────────────────────────────■──┤ U(0.90918,0.55996,0.31359) ├»\n",
       "«          ┌────────────────────────────┐┌─┴─┐└────────────────────────────┘»\n",
       "«q12581_1: ┤ U(0.14547,0.97266,0.90918) ├┤ X ├──────────────■───────────────»\n",
       "«          ├────────────────────────────┤└───┘            ┌─┴─┐             »\n",
       "«q12581_2: ┤ U(0.97266,0.90918,0.55996) ├─────────────────┤ X ├─────────────»\n",
       "«          └────────────────────────────┘                 └───┘             »\n",
       "« c1053: 3/═════════════════════════════════════════════════════════════════»\n",
       "«                                                                           »\n",
       "«                                            ┌───────────────────────────┐»\n",
       "«q12581_0: ───────────────────────────────■──┤ U(0.8882,0.67457,0.39109) ├»\n",
       "«          ┌───────────────────────────┐┌─┴─┐└───────────────────────────┘»\n",
       "«q12581_1: ┤ U(0.55996,0.31359,0.8882) ├┤ X ├──────────────■──────────────»\n",
       "«          ├───────────────────────────┤└───┘            ┌─┴─┐            »\n",
       "«q12581_2: ┤ U(0.31359,0.8882,0.67457) ├─────────────────┤ X ├────────────»\n",
       "«          └───────────────────────────┘                 └───┘            »\n",
       "« c1053: 3/═══════════════════════════════════════════════════════════════»\n",
       "«                                                                         »\n",
       "«                                        ┌─┐      \n",
       "«q12581_0: ──────────────────────────────┤M├──────\n",
       "«          ┌────────────────────────────┐└╥┘┌─┐   \n",
       "«q12581_1: ┤ U(0.67457,0.39109,0.50718) ├─╫─┤M├───\n",
       "«          ├───────────────────────────┬┘ ║ └╥┘┌─┐\n",
       "«q12581_2: ┤ U(0.39109,0.50718,0.5241) ├──╫──╫─┤M├\n",
       "«          └───────────────────────────┘  ║  ║ └╥┘\n",
       "« c1053: 3/═══════════════════════════════╩══╩══╩═\n",
       "«                                         0  1  2 "
      ]
     },
     "execution_count": 26,
     "metadata": {},
     "output_type": "execute_result"
    }
   ],
   "source": [
    "# Draw the ansatz circuit for the VQA\n",
    "qc = problem.Ansatz()\n",
    "qc.draw()\n"
   ]
  },
  {
   "cell_type": "code",
   "execution_count": 27,
   "id": "a8e93fe6",
   "metadata": {},
   "outputs": [
    {
     "name": "stdout",
     "output_type": "stream",
     "text": [
      "\n",
      "   Normal return from subroutine COBYLA\n",
      "\n",
      "   NFVALS =  369   F = 9.048292E-01    MAXCV = 0.000000E+00\n",
      "   X = 7.674153E-01   3.083926E-01   3.567555E-01   3.572031E-01   1.530159E-01\n",
      "       9.783925E-01   9.163055E-01   5.577774E-01   3.173119E-01   8.876737E-01\n",
      "       6.731026E-01   3.986270E-01   1.509299E+00   5.210244E-01   9.332166E-01\n",
      "       5.712339E-01   6.724298E-01   4.417168E-02   3.327438E-01   5.020231E-02\n",
      "       1.821581E-01   9.306215E-01   9.330647E-01   1.714126E+00   9.813649E-01\n",
      "       4.610413E-01   9.311946E-01   4.054444E-01   6.823981E-01   6.490743E-01\n",
      "       5.051848E-01   2.213328E-01   7.652591E-01   8.773834E-01   7.954723E-01\n",
      "       4.310266E-01\n",
      "Target Distribution: [0.12590188 0.05805903 0.06503142 0.1008866  0.09604634 0.25368005\n",
      " 0.10390745 0.19648723]\n",
      "Obtained Distribution: [0.3623046875, 0.1142578125, 0.1064453125, 0.05078125, 0.1181640625, 0.029296875, 0.0341796875, 0.1845703125]\n",
      "Output Error (Manhattan Distance): 0.9048292416194471\n",
      "Parameters Found: [0.76741534 0.30839258 0.35675548 0.35720314 0.15301586 0.97839248\n",
      " 0.91630551 0.55777738 0.31731194 0.8876737  0.67310256 0.39862703\n",
      " 1.50929926 0.52102436 0.93321664 0.57123388 0.67242985 0.04417168\n",
      " 0.33274376 0.05020231 0.18215808 0.93062153 0.93306472 1.7141261\n",
      " 0.98136493 0.46104132 0.93119459 0.40544437 0.68239811 0.64907425\n",
      " 0.5051848  0.22133279 0.76525906 0.87738345 0.79547227 0.43102658]\n",
      "Intitial Parameters: [0.76053669 0.31000935 0.3465412  0.35176482 0.14546686 0.97266468\n",
      " 0.90917844 0.5599571  0.31359075 0.88820004 0.67457307 0.39108745\n",
      " 0.50718412 0.5241035  0.92800093 0.57137307 0.66833757 0.05225869\n",
      " 0.3270573  0.05640164 0.17982769 0.92593317 0.93801522 0.71409271\n",
      " 0.73268761 0.46174768 0.93132927 0.40642024 0.68320577 0.64991587\n",
      " 0.59876518 0.22203939 0.68235717 0.8780563  0.79671726 0.43200225]\n",
      "Repetitions: 369\n",
      "None\n"
     ]
    }
   ],
   "source": [
    "# Print the output of the VQA\n",
    "print(problem.find_target_distribution())"
   ]
  },
  {
   "cell_type": "code",
   "execution_count": 28,
   "id": "77d3c981",
   "metadata": {},
   "outputs": [
    {
     "data": {
      "image/png": "[encoded data removed]",
      "text/plain": [
       "<Figure size 1440x576 with 1 Axes>"
      ]
     },
     "execution_count": 28,
     "metadata": {},
     "output_type": "execute_result"
    }
   ],
   "source": [
    "# Plot the output of the VQA\n",
    "problem.plot()"
   ]
  },
  {
   "cell_type": "code",
   "execution_count": null,
   "id": "d7b06437",
   "metadata": {},
   "outputs": [],
   "source": []
  }
 ],
 "metadata": {
  "kernelspec": {
   "display_name": "Python 3 (ipykernel)",
   "language": "python",
   "name": "python3"
  },
  "language_info": {
   "codemirror_mode": {
    "name": "ipython",
    "version": 3
   },
   "file_extension": ".py",
   "mimetype": "text/x-python",
   "name": "python",
   "nbconvert_exporter": "python",
   "pygments_lexer": "ipython3",
   "version": "3.8.12"
  }
 },
 "nbformat": 4,
 "nbformat_minor": 5
}
